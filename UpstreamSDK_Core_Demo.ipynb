{
 "cells": [
  {
   "cell_type": "markdown",
   "metadata": {},
   "source": [
    "# Upstream SDK Core Demo\n",
    "\n",
    "This notebook demonstrates the core functionality of the Upstream SDK for managing environmental monitoring campaigns, stations, and data upload.\n",
    "\n",
    "## Overview\n",
    "\n",
    "The Upstream SDK provides a modern, type-safe interface for:\n",
    "- 🏕️ **Campaign Management**: Creating and managing monitoring campaigns\n",
    "- 📡 **Station Management**: Setting up monitoring stations with sensors\n",
    "- 📊 **Data Management**: Uploading sensor data and measurements\n",
    "- 📈 **Data Retrieval**: Querying and analyzing uploaded data\n",
    "\n",
    "## Features Demonstrated\n",
    "\n",
    "- Authentication and client initialization\n",
    "- Campaign creation and management\n",
    "- Station setup and configuration\n",
    "- Data upload with CSV file handling\n",
    "- Sensor management and statistics\n",
    "- Error handling and validation\n",
    "\n",
    "## Prerequisites\n",
    "\n",
    "- Valid Upstream account credentials\n",
    "- Python 3.7+ environment\n",
    "- Required packages installed (see requirements)\n",
    "\n",
    "## Related Notebooks\n",
    "\n",
    "- **UpstreamSDK_CKAN_Demo.ipynb**: CKAN integration and data publishing\n",
    "- **UpstreamSDK_Demo.ipynb**: Original combined demo (deprecated)"
   ]
  },
  {
   "cell_type": "markdown",
   "metadata": {},
   "source": [
    "## Installation and Setup"
   ]
  },
  {
   "cell_type": "code",
   "execution_count": 1,
   "metadata": {},
   "outputs": [
    {
     "name": "stdout",
     "output_type": "stream",
     "text": [
      "Obtaining file:///Users/mosorio/repos/tacc/upstream/sdk\n",
      "  Installing build dependencies ... \u001b[?25ldone\n",
      "\u001b[?25h  Checking if build backend supports build_editable ... \u001b[?25ldone\n",
      "\u001b[?25h  Getting requirements to build editable ... \u001b[?25ldone\n",
      "\u001b[?25h  Preparing editable metadata (pyproject.toml) ... \u001b[?25ldone\n",
      "\u001b[?25hRequirement already satisfied: pyyaml>=6.0 in ./.venv/lib/python3.9/site-packages (from upstream-sdk==1.0.0) (6.0.2)\n",
      "Requirement already satisfied: python-dateutil>=2.8.0 in ./.venv/lib/python3.9/site-packages (from upstream-sdk==1.0.0) (2.9.0.post0)\n",
      "Requirement already satisfied: pydantic>=2.0.0 in ./.venv/lib/python3.9/site-packages (from upstream-sdk==1.0.0) (2.11.7)\n",
      "Requirement already satisfied: typing-extensions>=4.0.0 in ./.venv/lib/python3.9/site-packages (from upstream-sdk==1.0.0) (4.14.1)\n",
      "Requirement already satisfied: urllib3>=1.25.3 in ./.venv/lib/python3.9/site-packages (from upstream-sdk==1.0.0) (2.5.0)\n",
      "Requirement already satisfied: upstream-api-client>=0.1.4 in ./.venv/lib/python3.9/site-packages (from upstream-sdk==1.0.0) (0.1.4)\n",
      "Requirement already satisfied: requests>=2.25.0 in ./.venv/lib/python3.9/site-packages (from upstream-sdk==1.0.0) (2.32.4)\n",
      "Requirement already satisfied: typing-inspection>=0.4.0 in ./.venv/lib/python3.9/site-packages (from pydantic>=2.0.0->upstream-sdk==1.0.0) (0.4.1)\n",
      "Requirement already satisfied: pydantic-core==2.33.2 in ./.venv/lib/python3.9/site-packages (from pydantic>=2.0.0->upstream-sdk==1.0.0) (2.33.2)\n",
      "Requirement already satisfied: annotated-types>=0.6.0 in ./.venv/lib/python3.9/site-packages (from pydantic>=2.0.0->upstream-sdk==1.0.0) (0.7.0)\n",
      "Requirement already satisfied: six>=1.5 in ./.venv/lib/python3.9/site-packages (from python-dateutil>=2.8.0->upstream-sdk==1.0.0) (1.17.0)\n",
      "Requirement already satisfied: charset_normalizer<4,>=2 in ./.venv/lib/python3.9/site-packages (from requests>=2.25.0->upstream-sdk==1.0.0) (3.4.2)\n",
      "Requirement already satisfied: idna<4,>=2.5 in ./.venv/lib/python3.9/site-packages (from requests>=2.25.0->upstream-sdk==1.0.0) (3.10)\n",
      "Requirement already satisfied: certifi>=2017.4.17 in ./.venv/lib/python3.9/site-packages (from requests>=2.25.0->upstream-sdk==1.0.0) (2025.7.14)\n",
      "Building wheels for collected packages: upstream-sdk\n",
      "  Building editable for upstream-sdk (pyproject.toml) ... \u001b[?25ldone\n",
      "\u001b[?25h  Created wheel for upstream-sdk: filename=upstream_sdk-1.0.0-0.editable-py3-none-any.whl size=8003 sha256=9e72eeb2ef7e3f035135ab71e2bd7b73082fa44a9d5b7ec581c7ae928763476c\n",
      "  Stored in directory: /private/var/folders/qn/xpsy3ssx5hbbb_ndr2sbt5w80000gn/T/pip-ephem-wheel-cache-tpmw2cpi/wheels/47/dc/ae/1a3abd774032839edac85dcd8bb9739031dd6ccef29fca9667\n",
      "Successfully built upstream-sdk\n",
      "Installing collected packages: upstream-sdk\n",
      "  Attempting uninstall: upstream-sdk\n",
      "    Found existing installation: upstream-sdk 1.0.0\n",
      "    Uninstalling upstream-sdk-1.0.0:\n",
      "      Successfully uninstalled upstream-sdk-1.0.0\n",
      "Successfully installed upstream-sdk-1.0.0\n",
      "\n",
      "\u001b[1m[\u001b[0m\u001b[34;49mnotice\u001b[0m\u001b[1;39;49m]\u001b[0m\u001b[39;49m A new release of pip is available: \u001b[0m\u001b[31;49m23.0.1\u001b[0m\u001b[39;49m -> \u001b[0m\u001b[32;49m25.1.1\u001b[0m\n",
      "\u001b[1m[\u001b[0m\u001b[34;49mnotice\u001b[0m\u001b[1;39;49m]\u001b[0m\u001b[39;49m To update, run: \u001b[0m\u001b[32;49mpip install --upgrade pip\u001b[0m\n"
     ]
    }
   ],
   "source": [
    "# Install required packages\n",
    "!pip install -e .\n",
    "\n",
    "# Import required libraries\n",
    "import os\n",
    "import json\n",
    "import getpass\n",
    "from pathlib import Path\n",
    "from datetime import datetime\n",
    "from typing import Dict, Any, Optional, List\n",
    "\n",
    "# Import Upstream SDK modules\n",
    "from upstream.client import UpstreamClient\n",
    "from upstream.campaigns import CampaignManager\n",
    "from upstream.stations import StationManager\n",
    "from upstream.exceptions import APIError, ValidationError\n",
    "from upstream.auth import AuthManager"
   ]
  },
  {
   "cell_type": "markdown",
   "metadata": {},
   "source": [
    "## 1. Authentication and Client Setup\n",
    "\n",
    "First, let's authenticate with the Upstream API and set up our client instances.\n",
    "\n",
    "**Note**: Update the `BASE_URL` according to your environment:\n",
    "- Development: `http://localhost:8000`\n",
    "- Production: `https://upstream-dso.tacc.utexas.edu/dev`"
   ]
  },
  {
   "cell_type": "code",
   "execution_count": 2,
   "metadata": {},
   "outputs": [
    {
     "name": "stdout",
     "output_type": "stream",
     "text": [
      "Please enter your Upstream credentials:\n",
      "✅ Authentication successful!\n",
      "🔗 Connected to: http://localhost:8000\n"
     ]
    }
   ],
   "source": [
    "# Configuration\n",
    "BASE_URL = \"https://upstream-dso.tacc.utexas.edu/dev\"\n",
    "# For local development, uncomment the line below:\n",
    "BASE_URL = 'http://localhost:8000'\n",
    "\n",
    "# Get credentials securely\n",
    "print(\"Please enter your Upstream credentials:\")\n",
    "username = input(\"Username: \")\n",
    "password = getpass.getpass(\"Password: \")\n",
    "\n",
    "# Initialize client\n",
    "try:\n",
    "    client = UpstreamClient(\n",
    "        username=username,\n",
    "        password=password,\n",
    "        base_url=BASE_URL\n",
    "    )\n",
    "\n",
    "    # Test authentication\n",
    "    if client.authenticate():\n",
    "        print(\"✅ Authentication successful!\")\n",
    "        print(f\"🔗 Connected to: {BASE_URL}\")\n",
    "    else:\n",
    "        print(\"❌ Authentication failed!\")\n",
    "        raise Exception(\"Authentication failed\")\n",
    "\n",
    "except Exception as e:\n",
    "    print(f\"❌ Setup error: {e}\")\n",
    "    raise"
   ]
  },
  {
   "cell_type": "markdown",
   "metadata": {},
   "source": [
    "## 2. Campaign Management\n",
    "\n",
    "Campaigns are the top-level organizational unit in Upstream. They represent a specific monitoring project with defined goals, timeframes, and responsible parties.\n",
    "\n",
    "### Creating a New Campaign"
   ]
  },
  {
   "cell_type": "code",
   "execution_count": 6,
   "metadata": {},
   "outputs": [
    {
     "name": "stdout",
     "output_type": "stream",
     "text": [
      "📊 Creating new campaign...\n",
      "✅ Campaign created successfully!\n",
      "   ID: 611\n"
     ]
    }
   ],
   "source": [
    "# Initialize campaign manager\n",
    "from upstream_api_client.models import CampaignsIn\n",
    "campaign_manager = CampaignManager(client.auth_manager)\n",
    "\n",
    "# Create campaign request with all required fields\n",
    "campaign_request = CampaignsIn(\n",
    "    name=\"Environmental Monitoring Core Demo 2024\",\n",
    "    description=\"Core functionality demonstration for SDK campaign and station management\",\n",
    "    contact_name=\"Dr. Jane Smith\",\n",
    "    contact_email=\"jane.smith@example.edu\",\n",
    "    allocation=\"TACC\",\n",
    "    start_date=datetime.now(),\n",
    "    end_date=datetime.now().replace(year=datetime.now().year + 1)\n",
    ")\n",
    "\n",
    "# Create a new campaign\n",
    "print(\"📊 Creating new campaign...\")\n",
    "try:\n",
    "    campaign = campaign_manager.create(campaign_request)\n",
    "    print(f\"✅ Campaign created successfully!\")\n",
    "    print(f\"   ID: {campaign.id}\")\n",
    "    campaign_id = campaign.id\n",
    "\n",
    "except ValidationError as e:\n",
    "    print(f\"❌ Validation error: {e}\")\n",
    "except APIError as e:\n",
    "    print(f\"❌ API error: {e}\")\n",
    "except Exception as e:\n",
    "    print(f\"❌ Unexpected error: {e}\")"
   ]
  },
  {
   "cell_type": "markdown",
   "metadata": {},
   "source": [
    "### Listing Existing Campaigns"
   ]
  },
  {
   "cell_type": "code",
   "execution_count": 7,
   "metadata": {},
   "outputs": [
    {
     "name": "stdout",
     "output_type": "stream",
     "text": [
      "📋 Listing existing campaigns...\n",
      "Found 2 campaigns:\n",
      "  • 1: Test Campaign 2024\n",
      "    Description: A test campaign for development purposes...\n",
      "    Contact: John Doe (john.doe@example.com)\n",
      "    Duration: 2024-01-01 to 2024-12-31\n",
      "\n",
      "  • 2: Weather Station Network\n",
      "    Description: Network of weather stations across Texas...\n",
      "    Contact: Jane Smith (jane.smith@example.com)\n",
      "    Duration: 2024-03-01 to 2025-02-28\n",
      "\n"
     ]
    }
   ],
   "source": [
    "# List existing campaigns\n",
    "print(\"📋 Listing existing campaigns...\")\n",
    "try:\n",
    "    campaigns = campaign_manager.list(limit=10)\n",
    "    print(f\"Found {campaigns.total} campaigns:\")\n",
    "\n",
    "    for camp in campaigns.items[:5]:  # Show first 5\n",
    "        print(f\"  • {camp.id}: {camp.name}\")\n",
    "        print(f\"    Description: {camp.description[:100]}...\")\n",
    "        print(f\"    Contact: {camp.contact_name} ({camp.contact_email})\")\n",
    "        print(f\"    Duration: {camp.start_date.strftime('%Y-%m-%d')} to {camp.end_date.strftime('%Y-%m-%d')}\")\n",
    "        print()\n",
    "\n",
    "except Exception as e:\n",
    "    print(f\"❌ Error listing campaigns: {e}\")"
   ]
  },
  {
   "cell_type": "markdown",
   "metadata": {},
   "source": [
    "### Getting Campaign Details"
   ]
  },
  {
   "cell_type": "code",
   "execution_count": 8,
   "metadata": {},
   "outputs": [
    {
     "name": "stdout",
     "output_type": "stream",
     "text": [
      "📋 Getting campaign details for ID: 611\n",
      "\n",
      "📊 Campaign Details:\n",
      "  Name: Environmental Monitoring Core Demo 2024\n",
      "  Description: Core functionality demonstration for SDK campaign and station management\n",
      "  Contact: Dr. Jane Smith (jane.smith@example.edu)\n",
      "  Allocation: TACC\n",
      "  Start Date: 2025-07-17 09:33:24.269422\n",
      "  End Date: 2026-07-17 09:33:24.269450\n",
      "❌ Error getting campaign details: 'GetCampaignResponse' object has no attribute 'created_at'\n"
     ]
    }
   ],
   "source": [
    "# Get detailed campaign information\n",
    "print(f\"📋 Getting campaign details for ID: {campaign_id}\")\n",
    "try:\n",
    "    campaign_details = campaign_manager.get(str(campaign_id))\n",
    "\n",
    "    print(f\"\\n📊 Campaign Details:\")\n",
    "    print(f\"  Name: {campaign_details.name}\")\n",
    "    print(f\"  Description: {campaign_details.description}\")\n",
    "    print(f\"  Contact: {campaign_details.contact_name} ({campaign_details.contact_email})\")\n",
    "    print(f\"  Allocation: {campaign_details.allocation}\")\n",
    "    print(f\"  Start Date: {campaign_details.start_date}\")\n",
    "    print(f\"  End Date: {campaign_details.end_date}\")\n",
    "    print(f\"  Created: {campaign_details.created_at}\")\n",
    "    print(f\"  Updated: {campaign_details.updated_at}\")\n",
    "\n",
    "except Exception as e:\n",
    "    print(f\"❌ Error getting campaign details: {e}\")"
   ]
  },
  {
   "cell_type": "markdown",
   "metadata": {},
   "source": [
    "## 3. Station Management\n",
    "\n",
    "Stations represent physical monitoring locations within a campaign. Each station can have multiple sensors and collect various types of environmental data.\n",
    "\n",
    "### Creating a New Station"
   ]
  },
  {
   "cell_type": "code",
   "execution_count": 11,
   "metadata": {},
   "outputs": [
    {
     "name": "stdout",
     "output_type": "stream",
     "text": [
      "📍 Creating new monitoring station...\n",
      "✅ Station created successfully!\n",
      "   ID: 482\n"
     ]
    }
   ],
   "source": [
    "# Initialize station manager\n",
    "station_manager = StationManager(client.auth_manager)\n",
    "from upstream_api_client.models import StationCreate\n",
    "\n",
    "# Create station with comprehensive information\n",
    "new_station = StationCreate(\n",
    "    name=\"Downtown Air Quality Monitor\",\n",
    "    description=\"Air quality monitoring station in downtown Austin with PM2.5, PM10, and meteorological sensors\",\n",
    "    contact_name=\"Dr. Jane Smith\",\n",
    "    contact_email=\"jane.smith@example.edu\",\n",
    "    start_date=datetime.now(),\n",
    ")\n",
    "\n",
    "# Create a new station\n",
    "print(\"📍 Creating new monitoring station...\")\n",
    "try:\n",
    "    station = station_manager.create(campaign_id=str(campaign_id), station_create=new_station)\n",
    "    print(f\"✅ Station created successfully!\")\n",
    "    print(f\"   ID: {station.id}\")\n",
    "    station_id = station.id\n",
    "\n",
    "except ValidationError as e:\n",
    "    print(f\"❌ Validation error: {e}\")\n",
    "except APIError as e:\n",
    "    print(f\"❌ API error: {e}\")\n",
    "except Exception as e:\n",
    "    print(f\"❌ Unexpected error: {e}\")"
   ]
  },
  {
   "cell_type": "markdown",
   "metadata": {},
   "source": [
    "### Listing Stations in Campaign"
   ]
  },
  {
   "cell_type": "code",
   "execution_count": 12,
   "metadata": {},
   "outputs": [
    {
     "name": "stdout",
     "output_type": "stream",
     "text": [
      "📋 Listing stations in campaign 611...\n",
      "Found 3 stations:\n",
      "  • 480: Downtown Air Quality Monitor\n",
      "    Description: Air quality monitoring station in downtown Austin with PM2.5, PM10, and meteorol...\n",
      "    Contact: None\n",
      "    Start Date: None\n",
      "\n",
      "  • 481: Downtown Air Quality Monitor\n",
      "    Description: Air quality monitoring station in downtown Austin with PM2.5, PM10, and meteorol...\n",
      "    Contact: None\n",
      "    Start Date: None\n",
      "\n",
      "  • 482: Downtown Air Quality Monitor\n",
      "    Description: Air quality monitoring station in downtown Austin with PM2.5, PM10, and meteorol...\n",
      "    Contact: None\n",
      "    Start Date: None\n",
      "\n"
     ]
    }
   ],
   "source": [
    "# List stations in the campaign\n",
    "print(f\"📋 Listing stations in campaign {campaign_id}...\")\n",
    "try:\n",
    "    stations = station_manager.list(campaign_id=str(campaign_id))\n",
    "    print(f\"Found {stations.total} stations:\")\n",
    "\n",
    "    for station in stations.items:\n",
    "        print(f\"  • {station.id}: {station.name}\")\n",
    "        print(f\"    Description: {station.description[:80]}...\")\n",
    "        print(f\"    Contact: {station.contact_name}\")\n",
    "        print(f\"    Start Date: {station.start_date}\")\n",
    "        print()\n",
    "\n",
    "except Exception as e:\n",
    "    print(f\"❌ Error listing stations: {e}\")"
   ]
  },
  {
   "cell_type": "markdown",
   "metadata": {},
   "source": [
    "## 4. Data Upload and Management\n",
    "\n",
    "The Upstream SDK supports CSV-based data upload with separate files for sensor definitions and measurements.\n",
    "\n",
    "### Creating Sample Data Files"
   ]
  },
  {
   "cell_type": "code",
   "execution_count": 14,
   "metadata": {},
   "outputs": [
    {
     "name": "stdout",
     "output_type": "stream",
     "text": [
      "📁 Sample data files created:\n",
      "  • Sensors: sample_data/sensors.csv (395 bytes)\n",
      "  • Measurements: sample_data/measurements.csv (1017 bytes)\n"
     ]
    }
   ],
   "source": [
    "# Create sample data directory\n",
    "data_dir = Path(\"sample_data\")\n",
    "data_dir.mkdir(exist_ok=True)\n",
    "\n",
    "# Create comprehensive sensors CSV with various sensor types\n",
    "sensors_csv = data_dir / \"sensors.csv\"\n",
    "sensors_data = \"\"\"alias,variablename,units,postprocess,postprocessscript\n",
    "temp_01,Air Temperature,°C,false,\n",
    "humidity_01,Relative Humidity,%,false,\n",
    "pressure_01,Atmospheric Pressure,hPa,false,\n",
    "pm25_01,PM2.5 Concentration,μg/m³,true,pm25_calibration\n",
    "pm10_01,PM10 Concentration,μg/m³,true,pm10_calibration\n",
    "wind_speed,Wind Speed,m/s,false,\n",
    "wind_dir,Wind Direction,degrees,false,\n",
    "co2_01,CO2 Concentration,ppm,false,\"\"\"\n",
    "\n",
    "with open(sensors_csv, 'w') as f:\n",
    "    f.write(sensors_data)\n",
    "\n",
    "# Create sample measurements CSV with realistic data patterns\n",
    "measurements_csv = data_dir / \"measurements.csv\"\n",
    "measurements_data = \"\"\"collectiontime,Lat_deg,Lon_deg,temp_01,humidity_01,pressure_01,pm25_01,pm10_01,wind_speed,wind_dir,co2_01\n",
    "2024-01-15T10:00:00,30.2672,-97.7431,22.5,68.2,1013.25,15.2,25.8,3.2,45,420\n",
    "2024-01-15T10:05:00,30.2672,-97.7431,22.7,67.8,1013.20,14.8,24.5,3.5,52,425\n",
    "2024-01-15T10:10:00,30.2672,-97.7431,22.9,67.5,1013.15,16.1,26.2,3.1,48,418\n",
    "2024-01-15T10:15:00,30.2672,-97.7431,23.1,67.2,1013.10,15.5,25.1,2.8,41,430\n",
    "2024-01-15T10:20:00,30.2672,-97.7431,23.3,66.9,1013.05,14.9,24.8,3.3,55,422\n",
    "2024-01-15T10:25:00,30.2672,-97.7431,23.5,66.5,1013.00,15.7,26.0,3.0,47,428\n",
    "2024-01-15T10:30:00,30.2672,-97.7431,23.7,66.2,1012.95,16.2,26.5,3.4,50,415\n",
    "2024-01-15T10:35:00,30.2672,-97.7431,23.9,65.9,1012.90,15.3,25.3,2.9,43,435\n",
    "2024-01-15T10:40:00,30.2672,-97.7431,24.1,65.6,1012.85,14.6,24.2,3.6,58,420\n",
    "2024-01-15T10:45:00,30.2672,-97.7431,24.3,65.3,1012.80,15.8,25.9,3.2,46,425\n",
    "2024-01-15T10:50:00,30.2672,-97.7431,24.5,65.0,1012.75,16.5,26.8,3.1,49,412\n",
    "2024-01-15T10:55:00,30.2672,-97.7431,24.7,64.8,1012.70,15.1,24.9,3.7,61,438\"\"\"\n",
    "\n",
    "with open(measurements_csv, 'w') as f:\n",
    "    f.write(measurements_data)\n",
    "\n",
    "print(f\"📁 Sample data files created:\")\n",
    "print(f\"  • Sensors: {sensors_csv} ({sensors_csv.stat().st_size} bytes)\")\n",
    "print(f\"  • Measurements: {measurements_csv} ({measurements_csv.stat().st_size} bytes)\")\n"
   ]
  },
  {
   "cell_type": "markdown",
   "metadata": {},
   "source": [
    "### Uploading Data to Station"
   ]
  },
  {
   "cell_type": "code",
   "execution_count": 15,
   "metadata": {},
   "outputs": [
    {
     "name": "stdout",
     "output_type": "stream",
     "text": [
      "📤 Uploading sensor data to station 482...\n",
      "✅ Data uploaded successfully!\n",
      "\n",
      "📊 Upload Summary:\n",
      "  • Sensors processed: 8\n",
      "  • Measurements added: 96\n",
      "  • Processing time: 0.2 seconds.\n",
      "  • Sensors file stored: True\n",
      "  • Measurements file stored: True\n"
     ]
    }
   ],
   "source": [
    "# Upload CSV data to the station\n",
    "print(f\"📤 Uploading sensor data to station {station_id}...\")\n",
    "try:\n",
    "    upload_result = client.upload_csv_data(\n",
    "        campaign_id=campaign_id,\n",
    "        station_id=station_id,\n",
    "        sensors_file=sensors_csv,\n",
    "        measurements_file=measurements_csv\n",
    "    )\n",
    "\n",
    "    print(f\"✅ Data uploaded successfully!\")\n",
    "    print(f\"\\n📊 Upload Summary:\")\n",
    "    response = upload_result['response']\n",
    "    print(f\"  • Sensors processed: {response.get('Total sensors processed', 'N/A')}\")\n",
    "    print(f\"  • Measurements added: {response.get('Total measurements added to database', 'N/A')}\")\n",
    "    print(f\"  • Processing time: {response.get('Data Processing time', 'N/A')}\")\n",
    "    print(f\"  • Sensors file stored: {response.get('uploaded_file_sensors stored in memory', 'N/A')}\")\n",
    "    print(f\"  • Measurements file stored: {response.get('uploaded_file_measurements stored in memory', 'N/A')}\")\n",
    "\n",
    "except Exception as e:\n",
    "    print(f\"❌ Upload error: {e}\")"
   ]
  },
  {
   "cell_type": "markdown",
   "metadata": {},
   "source": [
    "## 5. Sensor Management and Statistics\n",
    "\n",
    "After uploading data, we can explore the sensors and their measurement statistics.\n",
    "\n",
    "### Listing Sensors on Station"
   ]
  },
  {
   "cell_type": "code",
   "execution_count": 16,
   "metadata": {},
   "outputs": [
    {
     "name": "stdout",
     "output_type": "stream",
     "text": [
      "📡 Listing all sensors on station 482...\n",
      "Found 8 sensors:\n",
      "  • temp_01 (Air Temperature)\n",
      "    Units: °C\n",
      "    Post-process: False\n",
      "\n",
      "  • humidity_01 (Relative Humidity)\n",
      "    Units: %\n",
      "    Post-process: False\n",
      "\n",
      "  • pressure_01 (Atmospheric Pressure)\n",
      "    Units: hPa\n",
      "    Post-process: False\n",
      "\n",
      "  • pm25_01 (PM2.5 Concentration)\n",
      "    Units: μg/m³\n",
      "    Post-process: True\n",
      "    Post-process script: pm25_calibration\n",
      "\n",
      "  • pm10_01 (PM10 Concentration)\n",
      "    Units: μg/m³\n",
      "    Post-process: True\n",
      "    Post-process script: pm10_calibration\n",
      "\n",
      "  • wind_speed (Wind Speed)\n",
      "    Units: m/s\n",
      "    Post-process: False\n",
      "\n",
      "  • wind_dir (Wind Direction)\n",
      "    Units: degrees\n",
      "    Post-process: False\n",
      "\n",
      "  • co2_01 (CO2 Concentration)\n",
      "    Units: ppm\n",
      "    Post-process: False\n",
      "\n"
     ]
    }
   ],
   "source": [
    "# List all sensors on the station\n",
    "print(f\"📡 Listing all sensors on station {station_id}...\")\n",
    "try:\n",
    "    sensors = client.sensors.list(\n",
    "        campaign_id=campaign_id,\n",
    "        station_id=station_id\n",
    "    )\n",
    "\n",
    "    print(f\"Found {len(sensors.items)} sensors:\")\n",
    "    for sensor in sensors.items:\n",
    "        print(f\"  • {sensor.alias} ({sensor.variablename})\")\n",
    "        print(f\"    Units: {sensor.units}\")\n",
    "        print(f\"    Post-process: {sensor.postprocess}\")\n",
    "        if sensor.postprocessscript:\n",
    "            print(f\"    Post-process script: {sensor.postprocessscript}\")\n",
    "        print()\n",
    "\n",
    "except Exception as e:\n",
    "    print(f\"❌ Error listing sensors: {e}\")"
   ]
  },
  {
   "cell_type": "markdown",
   "metadata": {},
   "source": [
    "### Sensor Statistics Analysis"
   ]
  },
  {
   "cell_type": "code",
   "execution_count": 17,
   "metadata": {},
   "outputs": [
    {
     "name": "stdout",
     "output_type": "stream",
     "text": [
      "📈 Analyzing sensor statistics...\n",
      "\n",
      "📊 Detailed Statistics for temp_01 (Air Temperature):\n",
      "  • Total measurements: 12\n",
      "  • Value range: 22.50 - 24.70 °C\n",
      "  • Average value: 23.60 °C\n",
      "  • Standard deviation: 0.721\n",
      "  • 95th percentile: 24.59 °C\n",
      "  • 99th percentile: 24.68 °C\n",
      "  • First measurement: 2024-01-15 10:00:00+00:00\n",
      "  • Last measurement: 2024-01-15 10:55:00+00:00\n",
      "  • Last value: 24.70 °C\n",
      "  • Statistics updated: 2025-07-17 13:35:07.526184+00:00\n",
      "\n",
      "📋 Summary Statistics for All Sensors:\n",
      "  • temp_01: 12 measurements, avg=23.60 °C\n",
      "  • humidity_01: 12 measurements, avg=66.41 %\n",
      "  • pressure_01: 12 measurements, avg=1012.98 hPa\n",
      "  • pm25_01: 12 measurements, avg=15.47 μg/m³\n",
      "  • pm10_01: 12 measurements, avg=25.50 μg/m³\n",
      "  • wind_speed: 12 measurements, avg=3.23 m/s\n",
      "  • wind_dir: 12 measurements, avg=49.58 degrees\n",
      "  • co2_01: 12 measurements, avg=424.00 ppm\n"
     ]
    }
   ],
   "source": [
    "# Analyze sensor statistics\n",
    "print(f\"📈 Analyzing sensor statistics...\")\n",
    "try:\n",
    "    # Get first sensor for detailed analysis\n",
    "    if sensors.items:\n",
    "        sensor = sensors.items[0]\n",
    "        stats = sensor.statistics\n",
    "\n",
    "        print(f\"\\n📊 Detailed Statistics for {sensor.alias} ({sensor.variablename}):\")\n",
    "        print(f\"  • Total measurements: {stats.count}\")\n",
    "        print(f\"  • Value range: {stats.min_value:.2f} - {stats.max_value:.2f} {sensor.units}\")\n",
    "        print(f\"  • Average value: {stats.avg_value:.2f} {sensor.units}\")\n",
    "        print(f\"  • Standard deviation: {stats.stddev_value:.3f}\")\n",
    "        print(f\"  • 95th percentile: {stats.percentile_95:.2f} {sensor.units}\")\n",
    "        print(f\"  • 99th percentile: {stats.percentile_99:.2f} {sensor.units}\")\n",
    "        print(f\"  • First measurement: {stats.first_measurement_collectiontime}\")\n",
    "        print(f\"  • Last measurement: {stats.last_measurement_time}\")\n",
    "        print(f\"  • Last value: {stats.last_measurement_value:.2f} {sensor.units}\")\n",
    "        print(f\"  • Statistics updated: {stats.stats_last_updated}\")\n",
    "\n",
    "        # Show statistics for all sensors in summary\n",
    "        print(f\"\\n📋 Summary Statistics for All Sensors:\")\n",
    "        for sensor in sensors.items:\n",
    "            stats = sensor.statistics\n",
    "            print(f\"  • {sensor.alias}: {stats.count} measurements, avg={stats.avg_value:.2f} {sensor.units}\")\n",
    "\n",
    "    else:\n",
    "        print(\"  No sensors found for analysis\")\n",
    "\n",
    "except Exception as e:\n",
    "    print(f\"❌ Error analyzing sensor statistics: {e}\")"
   ]
  },
  {
   "cell_type": "markdown",
   "metadata": {},
   "source": [
    "## 6. Data Retrieval and Analysis\n",
    "\n",
    "Let's retrieve and analyze the campaign data we've created.\n",
    "\n",
    "### Campaign Summary"
   ]
  },
  {
   "cell_type": "code",
   "execution_count": 19,
   "metadata": {},
   "outputs": [
    {
     "name": "stdout",
     "output_type": "stream",
     "text": [
      "📊 Comprehensive Campaign Summary for ID 611:\n",
      "\n",
      "📋 Campaign Information:\n",
      "   Name: Environmental Monitoring Core Demo 2024\n",
      "   Description: Core functionality demonstration for SDK campaign and station management\n",
      "   Contact: Dr. Jane Smith (jane.smith@example.edu)\n",
      "   Allocation: TACC\n",
      "   Start Date: 2025-07-17 09:33:24.269422\n",
      "   End Date: 2026-07-17 09:33:24.269450\n",
      "\n",
      "📍 Station Summary (3 total):\n",
      "   • Downtown Air Quality Monitor (ID: 480)\n",
      "     Description: Air quality monitoring station in downtown Austin with PM2.5, PM10, and meteorological sensors\n",
      "     Contact: None\n",
      "     Start Date: None\n",
      "     Sensors: 0\n",
      "     Total measurements: 0\n",
      "\n",
      "   • Downtown Air Quality Monitor (ID: 481)\n",
      "     Description: Air quality monitoring station in downtown Austin with PM2.5, PM10, and meteorological sensors\n",
      "     Contact: None\n",
      "     Start Date: None\n",
      "     Sensors: 0\n",
      "     Total measurements: 0\n",
      "\n",
      "   • Downtown Air Quality Monitor (ID: 482)\n",
      "     Description: Air quality monitoring station in downtown Austin with PM2.5, PM10, and meteorological sensors\n",
      "     Contact: None\n",
      "     Start Date: None\n",
      "     Sensors: 8\n",
      "     Total measurements: 96\n",
      "\n"
     ]
    }
   ],
   "source": [
    "# Get comprehensive campaign summary\n",
    "print(f\"📊 Comprehensive Campaign Summary for ID {campaign_id}:\")\n",
    "try:\n",
    "    campaign_details = campaign_manager.get(str(campaign_id))\n",
    "    stations_list = station_manager.list(campaign_id=str(campaign_id))\n",
    "\n",
    "    print(f\"\\n📋 Campaign Information:\")\n",
    "    print(f\"   Name: {campaign_details.name}\")\n",
    "    print(f\"   Description: {campaign_details.description}\")\n",
    "    print(f\"   Contact: {campaign_details.contact_name} ({campaign_details.contact_email})\")\n",
    "    print(f\"   Allocation: {campaign_details.allocation}\")\n",
    "    print(f\"   Start Date: {campaign_details.start_date}\")\n",
    "    print(f\"   End Date: {campaign_details.end_date}\")\n",
    "\n",
    "    print(f\"\\n📍 Station Summary ({stations_list.total} total):\")\n",
    "    for station in stations_list.items:\n",
    "        print(f\"   • {station.name} (ID: {station.id})\")\n",
    "        print(f\"     Description: {station.description}\")\n",
    "        print(f\"     Contact: {station.contact_name}\")\n",
    "        print(f\"     Start Date: {station.start_date}\")\n",
    "\n",
    "        # Get sensor count for this station\n",
    "        try:\n",
    "            station_sensors = client.sensors.list(\n",
    "                campaign_id=campaign_id,\n",
    "                station_id=station.id\n",
    "            )\n",
    "            print(f\"     Sensors: {len(station_sensors.items)}\")\n",
    "\n",
    "            # Show total measurements across all sensors\n",
    "            total_measurements = sum(s.statistics.count for s in station_sensors.items)\n",
    "            print(f\"     Total measurements: {total_measurements}\")\n",
    "\n",
    "        except Exception as e:\n",
    "            print(f\"     Error getting sensor info: {e}\")\n",
    "\n",
    "        print()\n",
    "\n",
    "except Exception as e:\n",
    "    print(f\"❌ Error getting campaign summary: {e}\")"
   ]
  },
  {
   "cell_type": "markdown",
   "metadata": {},
   "source": [
    "## 7. Error Handling and Validation\n",
    "\n",
    "Let's demonstrate proper error handling and validation patterns.\n",
    "\n",
    "### Testing Validation Errors"
   ]
  },
  {
   "cell_type": "code",
   "execution_count": 20,
   "metadata": {},
   "outputs": [
    {
     "name": "stdout",
     "output_type": "stream",
     "text": [
      "🧪 Testing validation and error handling...\n",
      "\n",
      "1. Testing API errors with non-existent campaign:\n",
      "   ✅ Caught expected API error: Campaign not found: 999999\n",
      "\n",
      "2. Testing API errors with non-existent station:\n",
      "   ✅ Caught expected API error: Station not found: 999999\n",
      "\n",
      "3. Testing connection handling:\n",
      "   ✅ Caught expected error: Invalid campaign ID format: invalid-format\n",
      "\n",
      "✅ Error handling tests completed\n"
     ]
    }
   ],
   "source": [
    "# Test validation and error handling\n",
    "print(\"🧪 Testing validation and error handling...\")\n",
    "\n",
    "# Test API errors with non-existent resources\n",
    "print(\"\\n1. Testing API errors with non-existent campaign:\")\n",
    "try:\n",
    "    nonexistent_campaign = campaign_manager.get(\"999999\")\n",
    "    print(f\"   ❌ Should have failed but got: {nonexistent_campaign}\")\n",
    "except APIError as e:\n",
    "    print(f\"   ✅ Caught expected API error: {e}\")\n",
    "except Exception as e:\n",
    "    print(f\"   ⚠️  Caught unexpected error: {e}\")\n",
    "\n",
    "# Test API errors with non-existent station\n",
    "print(\"\\n2. Testing API errors with non-existent station:\")\n",
    "try:\n",
    "    nonexistent_station = station_manager.get(\n",
    "        station_id=\"999999\",\n",
    "        campaign_id=str(campaign_id)\n",
    "    )\n",
    "    print(f\"   ❌ Should have failed but got: {nonexistent_station}\")\n",
    "except APIError as e:\n",
    "    print(f\"   ✅ Caught expected API error: {e}\")\n",
    "except Exception as e:\n",
    "    print(f\"   ⚠️  Caught unexpected error: {e}\")\n",
    "\n",
    "# Test network/connection errors\n",
    "print(\"\\n3. Testing connection handling:\")\n",
    "try:\n",
    "    # Test with invalid campaign format\n",
    "    invalid_campaign = campaign_manager.get(\"invalid-format\")\n",
    "    print(f\"   ❌ Should have failed but got: {invalid_campaign}\")\n",
    "except (APIError, ValidationError) as e:\n",
    "    print(f\"   ✅ Caught expected error: {e}\")\n",
    "except Exception as e:\n",
    "    print(f\"   ⚠️  Caught unexpected error: {e}\")\n",
    "\n",
    "print(\"\\n✅ Error handling tests completed\")"
   ]
  },
  {
   "cell_type": "markdown",
   "metadata": {},
   "source": [
    "## 8. Best Practices and Tips\n",
    "\n",
    "### Data Upload Best Practices"
   ]
  },
  {
   "cell_type": "code",
   "execution_count": 21,
   "metadata": {},
   "outputs": [
    {
     "name": "stdout",
     "output_type": "stream",
     "text": [
      "💡 Data Upload Best Practices:\n",
      "\n",
      "1. File Size Validation:\n",
      "   • Sensors file: 395 bytes\n",
      "   • Measurements file: 1,017 bytes\n",
      "   ✅ File sizes are within recommended limits\n",
      "\n",
      "2. Data Validation Tips:\n",
      "   • Ensure CSV files have proper headers\n",
      "   • Check for missing or invalid timestamps\n",
      "   • Validate sensor aliases match between files\n",
      "   • Use consistent units and formatting\n",
      "   • Include geographic coordinates (Lat_deg, Lon_deg)\n",
      "\n",
      "3. Performance Tips:\n",
      "   • Upload data in chronological order\n",
      "   • Use batch uploads for large datasets\n",
      "   • Monitor upload progress for large files\n",
      "   • Consider data compression for large files\n",
      "   • Use post-processing scripts for data quality checks\n"
     ]
    }
   ],
   "source": [
    "# Demonstrate best practices for data validation\n",
    "print(\"💡 Data Upload Best Practices:\")\n",
    "\n",
    "# Check file sizes before upload\n",
    "print(\"\\n1. File Size Validation:\")\n",
    "sensors_size = sensors_csv.stat().st_size\n",
    "measurements_size = measurements_csv.stat().st_size\n",
    "print(f\"   • Sensors file: {sensors_size:,} bytes\")\n",
    "print(f\"   • Measurements file: {measurements_size:,} bytes\")\n",
    "\n",
    "# Recommend file size limits\n",
    "MAX_FILE_SIZE = 50 * 1024 * 1024  # 50MB\n",
    "if sensors_size > MAX_FILE_SIZE or measurements_size > MAX_FILE_SIZE:\n",
    "    print(f\"   ⚠️  Warning: Files exceed recommended size limit ({MAX_FILE_SIZE:,} bytes)\")\n",
    "    print(f\"   💡 Consider splitting large files into smaller chunks\")\n",
    "else:\n",
    "    print(f\"   ✅ File sizes are within recommended limits\")\n",
    "\n",
    "# Data validation tips\n",
    "print(\"\\n2. Data Validation Tips:\")\n",
    "print(\"   • Ensure CSV files have proper headers\")\n",
    "print(\"   • Check for missing or invalid timestamps\")\n",
    "print(\"   • Validate sensor aliases match between files\")\n",
    "print(\"   • Use consistent units and formatting\")\n",
    "print(\"   • Include geographic coordinates (Lat_deg, Lon_deg)\")\n",
    "\n",
    "# Performance tips\n",
    "print(\"\\n3. Performance Tips:\")\n",
    "print(\"   • Upload data in chronological order\")\n",
    "print(\"   • Use batch uploads for large datasets\")\n",
    "print(\"   • Monitor upload progress for large files\")\n",
    "print(\"   • Consider data compression for large files\")\n",
    "print(\"   • Use post-processing scripts for data quality checks\")"
   ]
  },
  {
   "cell_type": "markdown",
   "metadata": {},
   "source": [
    "## 9. Cleanup\n",
    "\n",
    "Let's clean up temporary files and log out properly."
   ]
  },
  {
   "cell_type": "code",
   "execution_count": 22,
   "metadata": {},
   "outputs": [
    {
     "name": "stdout",
     "output_type": "stream",
     "text": [
      "🧹 Cleaning up temporary files...\n",
      "   ✅ Removed sample_data\n",
      "\n",
      "👋 Logging out...\n",
      "   ✅ Logged out successfully\n",
      "\n",
      "🎉 Core demo completed successfully!\n",
      "\n",
      "📚 Next Steps:\n",
      "   • Run UpstreamSDK_CKAN_Demo.ipynb for CKAN integration\n",
      "   • Explore real-time data streaming\n",
      "   • Set up automated data processing pipelines\n",
      "   • Develop custom visualization dashboards\n"
     ]
    }
   ],
   "source": [
    "# Clean up temporary files\n",
    "print(\"🧹 Cleaning up temporary files...\")\n",
    "try:\n",
    "    if data_dir.exists():\n",
    "        import shutil\n",
    "        shutil.rmtree(data_dir)\n",
    "        print(f\"   ✅ Removed {data_dir}\")\n",
    "    else:\n",
    "        print(f\"   ℹ️  Directory {data_dir} does not exist\")\n",
    "except Exception as e:\n",
    "    print(f\"   ❌ Error cleaning up: {e}\")\n",
    "\n",
    "# Logout\n",
    "print(\"\\n👋 Logging out...\")\n",
    "try:\n",
    "    client.logout()\n",
    "    print(\"   ✅ Logged out successfully\")\n",
    "except Exception as e:\n",
    "    print(f\"   ❌ Logout error: {e}\")\n",
    "\n",
    "print(\"\\n🎉 Core demo completed successfully!\")\n",
    "print(\"\\n📚 Next Steps:\")\n",
    "print(\"   • Run UpstreamSDK_CKAN_Demo.ipynb for CKAN integration\")\n",
    "print(\"   • Explore real-time data streaming\")\n",
    "print(\"   • Set up automated data processing pipelines\")\n",
    "print(\"   • Develop custom visualization dashboards\")"
   ]
  },
  {
   "cell_type": "markdown",
   "metadata": {},
   "source": [
    "## Summary\n",
    "\n",
    "This notebook demonstrated the core functionality of the Upstream SDK:\n",
    "\n",
    "✅ **Authentication** - Secure login to the Upstream platform  \n",
    "✅ **Campaign Management** - Creating and managing monitoring campaigns  \n",
    "✅ **Station Management** - Setting up monitoring stations  \n",
    "✅ **Data Upload** - Uploading sensor and measurement data via CSV files  \n",
    "✅ **Sensor Management** - Managing sensors and analyzing statistics  \n",
    "✅ **Data Retrieval** - Querying and analyzing uploaded data  \n",
    "✅ **Error Handling** - Proper validation and exception handling  \n",
    "✅ **Best Practices** - File handling, validation, and performance tips  \n",
    "\n",
    "## Key Takeaways\n",
    "\n",
    "- **Campaign Structure**: Campaigns → Stations → Sensors → Measurements\n",
    "- **Data Format**: CSV files with separate sensor definitions and measurements\n",
    "- **Authentication**: Secure credential-based authentication\n",
    "- **Error Handling**: Comprehensive validation and API error handling\n",
    "- **Statistics**: Automatic calculation of sensor measurement statistics\n",
    "\n",
    "## Related Documentation\n",
    "\n",
    "- [Upstream SDK Documentation](https://upstream-sdk.readthedocs.io/)\n",
    "- [API Reference](https://upstream-dso.tacc.utexas.edu/docs)\n",
    "- [Environmental Data Standards](https://www.example.com/standards)\n",
    "\n",
    "---\n",
    "\n",
    "*This notebook demonstrates the core Upstream SDK functionality. For CKAN integration, see UpstreamSDK_CKAN_Demo.ipynb*"
   ]
  }
 ],
 "metadata": {
  "kernelspec": {
   "display_name": ".venv",
   "language": "python",
   "name": "python3"
  },
  "language_info": {
   "codemirror_mode": {
    "name": "ipython",
    "version": 3
   },
   "file_extension": ".py",
   "mimetype": "text/x-python",
   "name": "python",
   "nbconvert_exporter": "python",
   "pygments_lexer": "ipython3",
   "version": "3.9.21"
  }
 },
 "nbformat": 4,
 "nbformat_minor": 4
}
