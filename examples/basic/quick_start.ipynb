{
 "cells": [
  {
   "cell_type": "code",
   "execution_count": 1,
   "id": "f65c7f59",
   "metadata": {},
   "outputs": [],
   "source": [
    "\n",
    "import os\n",
    "from pathlib import Path\n",
    "\n",
    "from upstream import UpstreamClient\n",
    "from upstream.exceptions import UpstreamError\n"
   ]
  },
  {
   "cell_type": "code",
   "execution_count": null,
   "id": "a9761de4",
   "metadata": {},
   "outputs": [],
   "source": [
    "\n",
    "import getpass\n",
    "\n",
    "password = getpass.getpass(\"Enter your password: \")\n",
    "client = UpstreamClient(\n",
    "  username=os.getenv(\"UPSTREAM_USERNAME\", \"mosorio\"),\n",
    "  password=password,\n",
    "  base_url=os.getenv(\"UPSTREAM_BASE_URL\", \"http://localhost:8000\"),\n",
    "  ckan_url=os.getenv(\"CKAN_URL\", \"https://ckan.tacc.utexas.edu\")\n",
    ")\n"
   ]
  },
  {
   "cell_type": "code",
   "execution_count": 7,
   "id": "bcd3e534",
   "metadata": {},
   "outputs": [
    {
     "name": "stdout",
     "output_type": "stream",
     "text": [
      "✅ Authentication successful!\n"
     ]
    }
   ],
   "source": [
    "# Test authentication\n",
    "try:\n",
    "    if client.authenticate():\n",
    "        print(\"✅ Authentication successful!\")\n",
    "    else:\n",
    "        print(\"❌ Authentication failed!\")\n",
    "except Exception as e:\n",
    "    print(f\"❌ Authentication failed: {e}\")"
   ]
  },
  {
   "cell_type": "markdown",
   "id": "c20d6257",
   "metadata": {},
   "source": [
    "Creating Campaigns\n",
    "Before uploading CSV data, you need to create a campaign to organize your data collection project. A campaign serves as the top-level container for all related monitoring activities.\n",
    "\n",
    "Campaign Requirements\n",
    "Required Fields:\n",
    "\n",
    "name: Descriptive name for your data collection project\n",
    "description: Detailed description of the campaign's purpose and scope\n",
    "Campaign Best Practices\n",
    "🎯 Naming Conventions:\n",
    "\n",
    "Use descriptive, unique names that clearly identify the project\n",
    "Include dates, locations, or project codes for easy identification\n",
    "Examples: \"Austin Air Quality 2024\", \"Hurricane Harvey Recovery Monitoring\"\n",
    "📝 Descriptions:\n",
    "\n",
    "Provide detailed context about the campaign's objectives\n",
    "Include information about duration, scope, and expected outcomes\n",
    "Mention any relevant research or operational goals"
   ]
  },
  {
   "cell_type": "code",
   "execution_count": 8,
   "id": "99d6b274",
   "metadata": {},
   "outputs": [],
   "source": [
    "campaign = client.create_campaign(\n",
    "    name=\"Example Air Quality Campaign\",\n",
    "    description=\"Demonstration campaign for SDK usage\"\n",
    ")"
   ]
  }
 ],
 "metadata": {
  "kernelspec": {
   "display_name": ".venv",
   "language": "python",
   "name": "python3"
  },
  "language_info": {
   "codemirror_mode": {
    "name": "ipython",
    "version": 3
   },
   "file_extension": ".py",
   "mimetype": "text/x-python",
   "name": "python",
   "nbconvert_exporter": "python",
   "pygments_lexer": "ipython3",
   "version": "3.9.21"
  }
 },
 "nbformat": 4,
 "nbformat_minor": 5
}
