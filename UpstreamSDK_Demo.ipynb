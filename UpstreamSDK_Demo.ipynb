{
 "cells": [
  {
   "cell_type": "markdown",
   "metadata": {},
   "source": [
    "# Upstream SDK Demo\n",
    "\n",
    "This notebook demonstrates the comprehensive usage of the Upstream SDK for managing environmental monitoring campaigns, stations, and data publication to CKAN.\n",
    "\n",
    "## Overview\n",
    "\n",
    "The Upstream SDK provides a modern, type-safe interface for:\n",
    "- 🏕️ **Campaign Management**: Creating and managing monitoring campaigns\n",
    "- 📡 **Station Management**: Setting up monitoring stations with sensors\n",
    "- 📊 **Data Management**: Uploading sensor data and measurements\n",
    "- 🌐 **CKAN Integration**: Publishing datasets to CKAN data portals\n",
    "\n",
    "## Features Demonstrated\n",
    "\n",
    "- Authentication and client initialization\n",
    "- Campaign creation and management\n",
    "- Station setup and configuration\n",
    "- Data upload with file handling\n",
    "- CKAN dataset creation and resource management\n",
    "- Error handling and validation\n",
    "\n",
    "## Prerequisites\n",
    "\n",
    "- Valid Upstream account credentials\n",
    "- Python 3.7+ environment\n",
    "- Required packages installed (see requirements)"
   ]
  },
  {
   "cell_type": "markdown",
   "metadata": {},
   "source": [
    "## Installation and Setup"
   ]
  },
  {
   "cell_type": "code",
   "execution_count": 18,
   "metadata": {},
   "outputs": [
    {
     "name": "stdout",
     "output_type": "stream",
     "text": [
      "Obtaining file:///Users/mosorio/repos/tacc/upstream/sdk\n",
      "  Installing build dependencies ... \u001b[?25ldone\n",
      "\u001b[?25h  Checking if build backend supports build_editable ... \u001b[?25ldone\n",
      "\u001b[?25h  Getting requirements to build editable ... \u001b[?25ldone\n",
      "\u001b[?25h  Preparing editable metadata (pyproject.toml) ... \u001b[?25ldone\n",
      "\u001b[?25hRequirement already satisfied: python-dateutil>=2.8.0 in ./.venv/lib/python3.9/site-packages (from upstream-sdk==1.0.0) (2.9.0.post0)\n",
      "Requirement already satisfied: upstream-api-client>=0.1.4 in ./.venv/lib/python3.9/site-packages (from upstream-sdk==1.0.0) (0.1.4)\n",
      "Requirement already satisfied: urllib3>=1.25.3 in ./.venv/lib/python3.9/site-packages (from upstream-sdk==1.0.0) (2.5.0)\n",
      "Requirement already satisfied: pydantic>=2.0.0 in ./.venv/lib/python3.9/site-packages (from upstream-sdk==1.0.0) (2.11.7)\n",
      "Requirement already satisfied: requests>=2.25.0 in ./.venv/lib/python3.9/site-packages (from upstream-sdk==1.0.0) (2.32.4)\n",
      "Requirement already satisfied: typing-extensions>=4.0.0 in ./.venv/lib/python3.9/site-packages (from upstream-sdk==1.0.0) (4.14.1)\n",
      "Requirement already satisfied: pyyaml>=6.0 in ./.venv/lib/python3.9/site-packages (from upstream-sdk==1.0.0) (6.0.2)\n",
      "Requirement already satisfied: typing-inspection>=0.4.0 in ./.venv/lib/python3.9/site-packages (from pydantic>=2.0.0->upstream-sdk==1.0.0) (0.4.1)\n",
      "Requirement already satisfied: pydantic-core==2.33.2 in ./.venv/lib/python3.9/site-packages (from pydantic>=2.0.0->upstream-sdk==1.0.0) (2.33.2)\n",
      "Requirement already satisfied: annotated-types>=0.6.0 in ./.venv/lib/python3.9/site-packages (from pydantic>=2.0.0->upstream-sdk==1.0.0) (0.7.0)\n",
      "Requirement already satisfied: six>=1.5 in ./.venv/lib/python3.9/site-packages (from python-dateutil>=2.8.0->upstream-sdk==1.0.0) (1.17.0)\n",
      "Requirement already satisfied: certifi>=2017.4.17 in ./.venv/lib/python3.9/site-packages (from requests>=2.25.0->upstream-sdk==1.0.0) (2025.7.14)\n",
      "Requirement already satisfied: idna<4,>=2.5 in ./.venv/lib/python3.9/site-packages (from requests>=2.25.0->upstream-sdk==1.0.0) (3.10)\n",
      "Requirement already satisfied: charset_normalizer<4,>=2 in ./.venv/lib/python3.9/site-packages (from requests>=2.25.0->upstream-sdk==1.0.0) (3.4.2)\n",
      "Building wheels for collected packages: upstream-sdk\n",
      "  Building editable for upstream-sdk (pyproject.toml) ... \u001b[?25ldone\n",
      "\u001b[?25h  Created wheel for upstream-sdk: filename=upstream_sdk-1.0.0-0.editable-py3-none-any.whl size=8003 sha256=178412b3fd3b091a87a0ee44fb1d83afe9a9d4f1733c524809db4db9fec55952\n",
      "  Stored in directory: /private/var/folders/qn/xpsy3ssx5hbbb_ndr2sbt5w80000gn/T/pip-ephem-wheel-cache-jtr2bx7o/wheels/47/dc/ae/1a3abd774032839edac85dcd8bb9739031dd6ccef29fca9667\n",
      "Successfully built upstream-sdk\n",
      "Installing collected packages: upstream-sdk\n",
      "  Attempting uninstall: upstream-sdk\n",
      "    Found existing installation: upstream-sdk 1.0.0\n",
      "    Uninstalling upstream-sdk-1.0.0:\n",
      "      Successfully uninstalled upstream-sdk-1.0.0\n",
      "Successfully installed upstream-sdk-1.0.0\n",
      "\n",
      "\u001b[1m[\u001b[0m\u001b[34;49mnotice\u001b[0m\u001b[1;39;49m]\u001b[0m\u001b[39;49m A new release of pip is available: \u001b[0m\u001b[31;49m23.0.1\u001b[0m\u001b[39;49m -> \u001b[0m\u001b[32;49m25.1.1\u001b[0m\n",
      "\u001b[1m[\u001b[0m\u001b[34;49mnotice\u001b[0m\u001b[1;39;49m]\u001b[0m\u001b[39;49m To update, run: \u001b[0m\u001b[32;49mpip install --upgrade pip\u001b[0m\n"
     ]
    }
   ],
   "source": [
    "# Install required packages\n",
    "!pip install -e .\n",
    "# Import required libraries\n",
    "import os\n",
    "import json\n",
    "import getpass\n",
    "from pathlib import Path\n",
    "from datetime import datetime\n",
    "from typing import Dict, Any, Optional, List\n",
    "\n",
    "# Import Upstream SDK modules\n",
    "from upstream.client import UpstreamClient\n",
    "from upstream.campaigns import CampaignManager\n",
    "from upstream.stations import StationManager\n",
    "from upstream.ckan import CKANIntegration\n",
    "from upstream.exceptions import APIError, ValidationError\n",
    "from upstream.auth import AuthManager"
   ]
  },
  {
   "cell_type": "markdown",
   "metadata": {},
   "source": [
    "## 1. Authentication and Client Setup\n",
    "\n",
    "First, let's authenticate with the Upstream API and set up our client instances."
   ]
  },
  {
   "cell_type": "code",
   "execution_count": 29,
   "metadata": {},
   "outputs": [
    {
     "name": "stdout",
     "output_type": "stream",
     "text": [
      "Please enter your Upstream credentials:\n",
      "❌ Setup error: Username and password are required\n"
     ]
    },
    {
     "ename": "ConfigurationError",
     "evalue": "Username and password are required",
     "output_type": "error",
     "traceback": [
      "\u001b[0;31m---------------------------------------------------------------------------\u001b[0m",
      "\u001b[0;31mConfigurationError\u001b[0m                        Traceback (most recent call last)",
      "Cell \u001b[0;32mIn[29], line 15\u001b[0m\n\u001b[1;32m     13\u001b[0m \u001b[38;5;66;03m# Initialize client\u001b[39;00m\n\u001b[1;32m     14\u001b[0m \u001b[38;5;28;01mtry\u001b[39;00m:\n\u001b[0;32m---> 15\u001b[0m     client \u001b[38;5;241m=\u001b[39m \u001b[43mUpstreamClient\u001b[49m\u001b[43m(\u001b[49m\n\u001b[1;32m     16\u001b[0m \u001b[43m        \u001b[49m\u001b[43musername\u001b[49m\u001b[38;5;241;43m=\u001b[39;49m\u001b[43musername\u001b[49m\u001b[43m,\u001b[49m\n\u001b[1;32m     17\u001b[0m \u001b[43m        \u001b[49m\u001b[43mpassword\u001b[49m\u001b[38;5;241;43m=\u001b[39;49m\u001b[43mpassword\u001b[49m\u001b[43m,\u001b[49m\n\u001b[1;32m     18\u001b[0m \u001b[43m        \u001b[49m\u001b[43mbase_url\u001b[49m\u001b[38;5;241;43m=\u001b[39;49m\u001b[43mBASE_URL\u001b[49m\u001b[43m,\u001b[49m\n\u001b[1;32m     19\u001b[0m \u001b[43m        \u001b[49m\u001b[43mckan_url\u001b[49m\u001b[38;5;241;43m=\u001b[39;49m\u001b[43mCKAN_URL\u001b[49m\n\u001b[1;32m     20\u001b[0m \u001b[43m    \u001b[49m\u001b[43m)\u001b[49m\n\u001b[1;32m     22\u001b[0m     \u001b[38;5;66;03m# Test authentication\u001b[39;00m\n\u001b[1;32m     23\u001b[0m     \u001b[38;5;28;01mif\u001b[39;00m client\u001b[38;5;241m.\u001b[39mauthenticate():\n",
      "File \u001b[0;32m~/repos/tacc/upstream/sdk/upstream/client.py:66\u001b[0m, in \u001b[0;36m__init__\u001b[0;34m(self, username, password, base_url, ckan_url, config_file, **kwargs)\u001b[0m\n\u001b[1;32m     59\u001b[0m     config \u001b[38;5;241m=\u001b[39m ConfigManager\u001b[38;5;241m.\u001b[39mfrom_file(config_file)\n\u001b[1;32m     60\u001b[0m \u001b[38;5;28;01melse\u001b[39;00m:\n\u001b[1;32m     61\u001b[0m     config \u001b[38;5;241m=\u001b[39m ConfigManager(\n\u001b[1;32m     62\u001b[0m         username\u001b[38;5;241m=\u001b[39musername,\n\u001b[1;32m     63\u001b[0m         password\u001b[38;5;241m=\u001b[39mpassword,\n\u001b[1;32m     64\u001b[0m         base_url\u001b[38;5;241m=\u001b[39mbase_url,\n\u001b[1;32m     65\u001b[0m         ckan_url\u001b[38;5;241m=\u001b[39mckan_url,\n\u001b[0;32m---> 66\u001b[0m         \u001b[38;5;241m*\u001b[39m\u001b[38;5;241m*\u001b[39mkwargs\n\u001b[1;32m     67\u001b[0m     )\n\u001b[1;32m     69\u001b[0m \u001b[38;5;66;03m# Initialize authentication manager\u001b[39;00m\n\u001b[1;32m     70\u001b[0m \u001b[38;5;28mself\u001b[39m\u001b[38;5;241m.\u001b[39mauth_manager \u001b[38;5;241m=\u001b[39m AuthManager(config)\n",
      "File \u001b[0;32m~/repos/tacc/upstream/sdk/upstream/auth.py:39\u001b[0m, in \u001b[0;36mAuthManager.__init__\u001b[0;34m(self, config)\u001b[0m\n\u001b[1;32m     37\u001b[0m \u001b[38;5;66;03m# Validate configuration\u001b[39;00m\n\u001b[1;32m     38\u001b[0m \u001b[38;5;28;01mif\u001b[39;00m \u001b[38;5;129;01mnot\u001b[39;00m config\u001b[38;5;241m.\u001b[39musername \u001b[38;5;129;01mor\u001b[39;00m \u001b[38;5;129;01mnot\u001b[39;00m config\u001b[38;5;241m.\u001b[39mpassword:\n\u001b[0;32m---> 39\u001b[0m     \u001b[38;5;28;01mraise\u001b[39;00m ConfigurationError(\u001b[38;5;124m\"\u001b[39m\u001b[38;5;124mUsername and password are required\u001b[39m\u001b[38;5;124m\"\u001b[39m)\n",
      "\u001b[0;31mConfigurationError\u001b[0m: Username and password are required"
     ]
    }
   ],
   "source": [
    "# Configuration\n",
    "BASE_URL = \"https://upstream-dso.tacc.utexas.edu/dev\"\n",
    "CKAN_URL = \"https://ckan.tacc.utexas.edu\"\n",
    "\n",
    "BASE_URL = 'http://localhost:8000'\n",
    "CKAN_URL = 'http://ckan.tacc.cloud:5000'\n",
    "\n",
    "# Get credentials\n",
    "print(\"Please enter your Upstream credentials:\")\n",
    "username = input(\"Username: \")\n",
    "password = getpass.getpass(\"Password: \")\n",
    "\n",
    "# Initialize client\n",
    "try:\n",
    "    client = UpstreamClient(\n",
    "        username=username,\n",
    "        password=password,\n",
    "        base_url=BASE_URL,\n",
    "        ckan_url=CKAN_URL\n",
    "    )\n",
    "\n",
    "    # Test authentication\n",
    "    if client.authenticate():\n",
    "        print(\"✅ Authentication successful!\")\n",
    "        print(f\"🔗 Connected to: {BASE_URL}\")\n",
    "        print(f\"🌐 CKAN URL: {CKAN_URL}\")\n",
    "    else:\n",
    "        print(\"❌ Authentication failed!\")\n",
    "        raise Exception(\"Authentication failed\")\n",
    "\n",
    "except Exception as e:\n",
    "    print(f\"❌ Setup error: {e}\")\n",
    "    raise"
   ]
  },
  {
   "cell_type": "markdown",
   "metadata": {},
   "source": [
    "## 2. Campaign Management\n",
    "\n",
    "Let's create and manage environmental monitoring campaigns using the CampaignManager."
   ]
  },
  {
   "cell_type": "code",
   "execution_count": 20,
   "metadata": {},
   "outputs": [
    {
     "name": "stdout",
     "output_type": "stream",
     "text": [
      "📊 Creating new campaign...\n",
      "✅ Campaign created successfully!\n",
      "   ID: 7\n"
     ]
    }
   ],
   "source": [
    "# Initialize campaign manager\n",
    "campaign_manager = CampaignManager(client.auth_manager)\n",
    "\n",
    "# Create a new campaign\n",
    "print(\"📊 Creating new campaign...\")\n",
    "try:\n",
    "    campaign = campaign_manager.create(\n",
    "        name=\"Environmental Monitoring Demo 2024\",\n",
    "        description=\"Demonstration campaign for SDK usage and CKAN integration\",\n",
    "        contact_name=\"Dr. Jane Smith\",\n",
    "        contact_email=\"jane.smith@example.edu\",\n",
    "        allocation=\"TACC\",\n",
    "        start_date=datetime.now(),\n",
    "        end_date=datetime.now().replace(year=datetime.now().year + 1)\n",
    "    )\n",
    "\n",
    "    print(f\"✅ Campaign created successfully!\")\n",
    "    print(f\"   ID: {campaign.id}\")\n",
    "    campaign_id = campaign.id\n",
    "\n",
    "except ValidationError as e:\n",
    "    print(f\"❌ Validation error: {e}\")\n",
    "except APIError as e:\n",
    "    print(f\"❌ API error: {e}\")\n",
    "except Exception as e:\n",
    "    print(f\"❌ Unexpected error: {e}\")"
   ]
  },
  {
   "cell_type": "code",
   "execution_count": 21,
   "metadata": {},
   "outputs": [
    {
     "name": "stdout",
     "output_type": "stream",
     "text": [
      "📋 Listing existing campaigns...\n",
      "Found 2 campaigns:\n",
      "  • 1: Test Campaign 2024\n",
      "    Description: A test campaign for development purposes...\n",
      "\n"
     ]
    }
   ],
   "source": [
    "# List existing campaigns\n",
    "print(\"📋 Listing existing campaigns...\")\n",
    "try:\n",
    "    campaigns = campaign_manager.list(limit=10)\n",
    "    print(f\"Found {campaigns.total} campaigns:\")\n",
    "    for camp in campaigns.items[:1]:  # Show first 5\n",
    "        print(f\"  • {camp.id}: {camp.name}\")\n",
    "        print(f\"    Description: {camp.description[:100]}...\")\n",
    "        print()\n",
    "\n",
    "except Exception as e:\n",
    "    print(f\"❌ Error listing campaigns: {e}\")"
   ]
  },
  {
   "cell_type": "code",
   "execution_count": 22,
   "metadata": {},
   "outputs": [
    {
     "name": "stdout",
     "output_type": "stream",
     "text": [
      "📋 Getting campaign details for ID: 7\n",
      "Campaign Details:\n",
      "  Name: Environmental Monitoring Demo 2024\n",
      "  Description: Demonstration campaign for SDK usage and CKAN integration\n",
      "  Contact: Dr. Jane Smith (jane.smith@example.edu)\n",
      "  Allocation: TACC\n",
      "  Start Date: 2025-07-16 10:55:27.373220\n",
      "  End Date: 2026-07-16 10:55:27.373225\n"
     ]
    }
   ],
   "source": [
    "# Get campaign details\n",
    "print(f\"📋 Getting campaign details for ID: {campaign_id}\")\n",
    "try:\n",
    "    campaign_details = campaign_manager.get(str(campaign_id))\n",
    "\n",
    "    print(f\"Campaign Details:\")\n",
    "    print(f\"  Name: {campaign_details.name}\")\n",
    "    print(f\"  Description: {campaign_details.description}\")\n",
    "    print(f\"  Contact: {campaign_details.contact_name} ({campaign_details.contact_email})\")\n",
    "    print(f\"  Allocation: {campaign_details.allocation}\")\n",
    "    print(f\"  Start Date: {campaign_details.start_date}\")\n",
    "    print(f\"  End Date: {campaign_details.end_date}\")\n",
    "\n",
    "except Exception as e:\n",
    "    print(f\"❌ Error getting campaign details: {e}\")"
   ]
  },
  {
   "cell_type": "markdown",
   "metadata": {},
   "source": [
    "## 3. Station Management\n",
    "\n",
    "Now let's create monitoring stations within our campaign using the StationManager."
   ]
  },
  {
   "cell_type": "code",
   "execution_count": 28,
   "metadata": {},
   "outputs": [
    {
     "name": "stdout",
     "output_type": "stream",
     "text": [
      "📍 Creating new monitoring station...\n",
      "❌ Unexpected error: create() missing 3 required positional arguments: 'name', 'latitude', and 'longitude'\n"
     ]
    }
   ],
   "source": [
    "# Initialize station manager\n",
    "station_manager = StationManager(client.auth_manager)\n",
    "from upstream_api_client.models import (\n",
    "    StationCreate,\n",
    "    StationUpdate,\n",
    "    GetStationResponse,\n",
    "    StationCreateResponse,\n",
    "    ListStationsResponsePagination\n",
    ")\n",
    "new_station = StationCreate(\n",
    "    name=\"Downtown Air Quality Monitor\",\n",
    "    description=\"Air quality monitoring station in downtown Austin\",\n",
    "    contact_name=\"Dr. Jane Smith\",\n",
    "    contact_email=\"jane.smith@example.edu\",\n",
    "    start_date=datetime.now(),\n",
    ")\n",
    "\n",
    "# Create a new station\n",
    "print(\"📍 Creating new monitoring station...\")\n",
    "try:\n",
    "    station = station_manager.create(campaign_id=str(campaign_id), station_create=new_station)\n",
    "\n",
    "    print(f\"✅ Station created successfully!\")\n",
    "    print(f\"   ID: {station.id}\")\n",
    "    print(f\"   Name: {station.name}\")\n",
    "\n",
    "\n",
    "    station_id = station.id\n",
    "\n",
    "except ValidationError as e:\n",
    "    print(f\"❌ Validation error: {e}\")\n",
    "except APIError as e:\n",
    "    print(f\"❌ API error: {e}\")\n",
    "except Exception as e:\n",
    "    print(f\"❌ Unexpected error: {e}\")"
   ]
  },
  {
   "cell_type": "code",
   "execution_count": 24,
   "metadata": {},
   "outputs": [
    {
     "name": "stdout",
     "output_type": "stream",
     "text": [
      "📍 Creating station: Riverside Water Quality Monitor\n",
      "   ❌ Error creating station: 1 validation error for StationCreate\n",
      "start_date\n",
      "  Field required [type=missing, input_value={'name': 'Riverside Water...edu', 'altitude': 140.0}, input_type=dict]\n",
      "    For further information visit https://errors.pydantic.dev/2.11/v/missing\n",
      "📍 Creating station: Hill Country Weather Station\n",
      "   ❌ Error creating station: 1 validation error for StationCreate\n",
      "start_date\n",
      "  Field required [type=missing, input_value={'name': 'Hill Country We...edu', 'altitude': 200.0}, input_type=dict]\n",
      "    For further information visit https://errors.pydantic.dev/2.11/v/missing\n",
      "\n",
      "📊 Created 0 additional stations\n"
     ]
    }
   ],
   "source": [
    "# Create additional stations\n",
    "stations_data = [\n",
    "    {\n",
    "        \"name\": \"Riverside Water Quality Monitor\",\n",
    "        \"latitude\": 30.2500,\n",
    "        \"longitude\": -97.7500,\n",
    "        \"description\": \"Water quality monitoring station along the Colorado River\",\n",
    "        \"altitude\": 140.0\n",
    "    },\n",
    "    {\n",
    "        \"name\": \"Hill Country Weather Station\",\n",
    "        \"latitude\": 30.3000,\n",
    "        \"longitude\": -97.8000,\n",
    "        \"description\": \"Weather monitoring station in the Texas Hill Country\",\n",
    "        \"altitude\": 200.0\n",
    "    }\n",
    "]\n",
    "\n",
    "created_stations = []\n",
    "\n",
    "for station_data in stations_data:\n",
    "    print(f\"📍 Creating station: {station_data['name']}\")\n",
    "    try:\n",
    "        station = station_manager.create(\n",
    "            campaign_id=str(campaign_id),\n",
    "            contact_name=\"Dr. Jane Smith\",\n",
    "            contact_email=\"jane.smith@example.edu\",\n",
    "            **station_data\n",
    "        )\n",
    "        created_stations.append(station)\n",
    "        print(f\"   ✅ Created station ID: {station.id}\")\n",
    "    except Exception as e:\n",
    "        print(f\"   ❌ Error creating station: {e}\")\n",
    "\n",
    "print(f\"\\n📊 Created {len(created_stations)} additional stations\")"
   ]
  },
  {
   "cell_type": "code",
   "execution_count": 25,
   "metadata": {},
   "outputs": [
    {
     "name": "stdout",
     "output_type": "stream",
     "text": [
      "📋 Listing stations in campaign 7...\n",
      "Found 0 stations:\n"
     ]
    }
   ],
   "source": [
    "# List stations in the campaign\n",
    "print(f\"📋 Listing stations in campaign {campaign_id}...\")\n",
    "try:\n",
    "    stations = station_manager.list(campaign_id=str(campaign_id))\n",
    "\n",
    "    print(f\"Found {stations.total} stations:\")\n",
    "    for station in stations.items:\n",
    "        print(f\"  • {station.id}: {station.name}\")\n",
    "        print(f\"    Location: {station.latitude}, {station.longitude}\")\n",
    "        print(f\"    Description: {station.description[:80]}...\")\n",
    "        print()\n",
    "\n",
    "except Exception as e:\n",
    "    print(f\"❌ Error listing stations: {e}\")"
   ]
  },
  {
   "cell_type": "markdown",
   "metadata": {},
   "source": [
    "## 4. Data Upload\n",
    "\n",
    "Let's create sample CSV files and upload sensor data using the client."
   ]
  },
  {
   "cell_type": "code",
   "execution_count": 26,
   "metadata": {},
   "outputs": [
    {
     "name": "stdout",
     "output_type": "stream",
     "text": [
      "📁 Sample data files created:\n",
      "  • Sensors: sample_data/sensors.csv (287 bytes)\n",
      "  • Measurements: sample_data/measurements.csv (728 bytes)\n"
     ]
    }
   ],
   "source": [
    "# Create sample data directory\n",
    "data_dir = Path(\"sample_data\")\n",
    "data_dir.mkdir(exist_ok=True)\n",
    "\n",
    "# Create sample sensors CSV\n",
    "sensors_csv = data_dir / \"sensors.csv\"\n",
    "sensors_data = \"\"\"alias,variablename,units,postprocess,postprocessscript\n",
    "temp_01,Air Temperature,°C,false,\n",
    "humidity_01,Relative Humidity,%,false,\n",
    "pressure_01,Atmospheric Pressure,hPa,false,\n",
    "pm25_01,PM2.5 Concentration,μg/m³,true,pm25_calibration\n",
    "pm10_01,PM10 Concentration,μg/m³,true,pm10_calibration\"\"\"\n",
    "\n",
    "with open(sensors_csv, 'w') as f:\n",
    "    f.write(sensors_data)\n",
    "\n",
    "# Create sample measurements CSV\n",
    "measurements_csv = data_dir / \"measurements.csv\"\n",
    "measurements_data = \"\"\"collectiontime,Lat_deg,Lon_deg,temp_01,humidity_01,pressure_01,pm25_01,pm10_01\n",
    "2024-01-15T10:00:00,30.2672,-97.7431,22.5,68.2,1013.25,15.2,25.8\n",
    "2024-01-15T10:05:00,30.2672,-97.7431,22.7,67.8,1013.20,14.8,24.5\n",
    "2024-01-15T10:10:00,30.2672,-97.7431,22.9,67.5,1013.15,16.1,26.2\n",
    "2024-01-15T10:15:00,30.2672,-97.7431,23.1,67.2,1013.10,15.5,25.1\n",
    "2024-01-15T10:20:00,30.2672,-97.7431,23.3,66.9,1013.05,14.9,24.8\n",
    "2024-01-15T10:25:00,30.2672,-97.7431,23.5,66.5,1013.00,15.7,26.0\n",
    "2024-01-15T10:30:00,30.2672,-97.7431,23.7,66.2,1012.95,16.2,26.5\n",
    "2024-01-15T10:35:00,30.2672,-97.7431,23.9,65.9,1012.90,15.3,25.3\n",
    "2024-01-15T10:40:00,30.2672,-97.7431,24.1,65.6,1012.85,14.6,24.2\n",
    "2024-01-15T10:45:00,30.2672,-97.7431,24.3,65.3,1012.80,15.8,25.9\"\"\"\n",
    "\n",
    "with open(measurements_csv, 'w') as f:\n",
    "    f.write(measurements_data)\n",
    "\n",
    "print(f\"📁 Sample data files created:\")\n",
    "print(f\"  • Sensors: {sensors_csv} ({sensors_csv.stat().st_size} bytes)\")\n",
    "print(f\"  • Measurements: {measurements_csv} ({measurements_csv.stat().st_size} bytes)\")"
   ]
  },
  {
   "cell_type": "code",
   "execution_count": 27,
   "metadata": {},
   "outputs": [
    {
     "ename": "NameError",
     "evalue": "name 'station_id' is not defined",
     "output_type": "error",
     "traceback": [
      "\u001b[0;31m---------------------------------------------------------------------------\u001b[0m",
      "\u001b[0;31mNameError\u001b[0m                                 Traceback (most recent call last)",
      "Cell \u001b[0;32mIn[27], line 2\u001b[0m\n\u001b[1;32m      1\u001b[0m \u001b[38;5;66;03m# Upload CSV data\u001b[39;00m\n\u001b[0;32m----> 2\u001b[0m \u001b[38;5;28mprint\u001b[39m(\u001b[38;5;124mf\u001b[39m\u001b[38;5;124m\"\u001b[39m\u001b[38;5;124m📤 Uploading sensor data to station \u001b[39m\u001b[38;5;132;01m{\u001b[39;00mstation_id\u001b[38;5;132;01m}\u001b[39;00m\u001b[38;5;124m...\u001b[39m\u001b[38;5;124m\"\u001b[39m)\n\u001b[1;32m      3\u001b[0m \u001b[38;5;28;01mtry\u001b[39;00m:\n\u001b[1;32m      4\u001b[0m     upload_result \u001b[38;5;241m=\u001b[39m client\u001b[38;5;241m.\u001b[39mupload_csv_data(\n\u001b[1;32m      5\u001b[0m         campaign_id\u001b[38;5;241m=\u001b[39mcampaign_id,\n\u001b[1;32m      6\u001b[0m         station_id\u001b[38;5;241m=\u001b[39mstation_id,\n\u001b[1;32m      7\u001b[0m         sensors_file\u001b[38;5;241m=\u001b[39msensors_csv,\n\u001b[1;32m      8\u001b[0m         measurements_file\u001b[38;5;241m=\u001b[39mmeasurements_csv\n\u001b[1;32m      9\u001b[0m     )\n",
      "\u001b[0;31mNameError\u001b[0m: name 'station_id' is not defined"
     ]
    }
   ],
   "source": [
    "# Upload CSV data\n",
    "print(f\"📤 Uploading sensor data to station {station_id}...\")\n",
    "try:\n",
    "    upload_result = client.upload_csv_data(\n",
    "        campaign_id=campaign_id,\n",
    "        station_id=station_id,\n",
    "        sensors_file=sensors_csv,\n",
    "        measurements_file=measurements_csv\n",
    "    )\n",
    "\n",
    "    print(f\"✅ Data uploaded successfully!\")\n",
    "    print(f\"   Upload ID: {upload_result.get('upload_id', 'N/A')}\")\n",
    "    print(f\"   Sensors processed: {upload_result.get('sensors_processed', 'N/A')}\")\n",
    "    print(f\"   Measurements added: {upload_result.get('measurements_added', 'N/A')}\")\n",
    "\n",
    "except Exception as e:\n",
    "    print(f\"❌ Upload error: {e}\")"
   ]
  },
  {
   "cell_type": "markdown",
   "metadata": {},
   "source": [
    "## 5. CKAN Integration\n",
    "\n",
    "Now let's demonstrate the CKAN integration by publishing our campaign data to a CKAN portal."
   ]
  },
  {
   "cell_type": "code",
   "execution_count": null,
   "metadata": {},
   "outputs": [],
   "source": [
    "# Initialize CKAN integration\n",
    "print(\"🌐 Initializing CKAN integration...\")\n",
    "try:\n",
    "    # Configure CKAN with API key (if available)\n",
    "    ckan_config = {\n",
    "        'api_key': os.getenv('CKAN_API_KEY'),  # Set this environment variable\n",
    "        'timeout': 60,\n",
    "        'default_organization': 'upstream-environmental-data'\n",
    "    }\n",
    "\n",
    "    ckan = CKANIntegration(ckan_url=CKAN_URL, config=ckan_config)\n",
    "\n",
    "    print(f\"✅ CKAN integration initialized\")\n",
    "    print(f\"   URL: {CKAN_URL}\")\n",
    "    print(f\"   API Key: {'configured' if ckan_config['api_key'] else 'not configured'}\")\n",
    "\n",
    "except Exception as e:\n",
    "    print(f\"❌ CKAN initialization error: {e}\")"
   ]
  },
  {
   "cell_type": "code",
   "execution_count": null,
   "metadata": {},
   "outputs": [],
   "source": [
    "# Publish campaign to CKAN using file upload\n",
    "print(f\"📊 Publishing campaign {campaign_id} to CKAN...\")\n",
    "try:\n",
    "    # Get campaign data\n",
    "    campaign_data = {\n",
    "        'name': 'Environmental Monitoring Demo 2024',\n",
    "        'description': 'Demonstration campaign for SDK usage and CKAN integration',\n",
    "        'contact_name': 'Dr. Jane Smith',\n",
    "        'contact_email': 'jane.smith@example.edu'\n",
    "    }\n",
    "\n",
    "    # Publish with file uploads\n",
    "    ckan_result = ckan.publish_campaign(\n",
    "        campaign_id=str(campaign_id),\n",
    "        campaign_data=campaign_data,\n",
    "        auto_publish=True,\n",
    "        sensor_csv=str(sensors_csv),\n",
    "        measurement_csv=str(measurements_csv)\n",
    "    )\n",
    "\n",
    "    print(f\"✅ Campaign published to CKAN!\")\n",
    "    print(f\"   Dataset ID: {ckan_result['dataset']['id']}\")\n",
    "    print(f\"   Dataset Name: {ckan_result['dataset']['name']}\")\n",
    "    print(f\"   CKAN URL: {ckan_result['ckan_url']}\")\n",
    "    print(f\"   Resources created: {len(ckan_result['resources'])}\")\n",
    "\n",
    "    # Show resource details\n",
    "    print(f\"\\n📎 Resources uploaded:\")\n",
    "    for resource in ckan_result['resources']:\n",
    "        print(f\"  • {resource['name']} ({resource['format']})\")\n",
    "        print(f\"    Description: {resource['description']}\")\n",
    "        print(f\"    Size: {resource.get('size', 'N/A')}\")\n",
    "        print()\n",
    "\n",
    "except Exception as e:\n",
    "    print(f\"❌ CKAN publication error: {e}\")"
   ]
  },
  {
   "cell_type": "code",
   "execution_count": null,
   "metadata": {},
   "outputs": [],
   "source": [
    "# List CKAN datasets\n",
    "print(\"📋 Listing CKAN datasets...\")\n",
    "try:\n",
    "    datasets = ckan.list_datasets(\n",
    "        tags=['environmental', 'upstream'],\n",
    "        limit=10\n",
    "    )\n",
    "\n",
    "    print(f\"Found {len(datasets)} datasets:\")\n",
    "    for dataset in datasets[:5]:  # Show first 5\n",
    "        print(f\"  • {dataset['name']}\")\n",
    "        print(f\"    Title: {dataset['title']}\")\n",
    "        print(f\"    Description: {dataset['notes'][:100]}...\")\n",
    "        print(f\"    Resources: {len(dataset.get('resources', []))}\")\n",
    "        print()\n",
    "\n",
    "except Exception as e:\n",
    "    print(f\"❌ Error listing datasets: {e}\")"
   ]
  },
  {
   "cell_type": "markdown",
   "metadata": {},
   "source": [
    "## 6. Advanced Features\n",
    "\n",
    "Let's demonstrate some advanced features like updating campaigns and stations, and working with CKAN organizations."
   ]
  },
  {
   "cell_type": "code",
   "execution_count": null,
   "metadata": {},
   "outputs": [],
   "source": [
    "# Update campaign information\n",
    "print(f\"📝 Updating campaign {campaign_id}...\")\n",
    "try:\n",
    "    updated_campaign = campaign_manager.update(\n",
    "        campaign_id=str(campaign_id),\n",
    "        description=\"Updated: Demonstration campaign for SDK usage and CKAN integration with advanced features\"\n",
    "    )\n",
    "\n",
    "    print(f\"✅ Campaign updated successfully!\")\n",
    "    print(f\"   New description: {updated_campaign.description}\")\n",
    "\n",
    "except Exception as e:\n",
    "    print(f\"❌ Update error: {e}\")"
   ]
  },
  {
   "cell_type": "code",
   "execution_count": null,
   "metadata": {},
   "outputs": [],
   "source": [
    "# Update station information\n",
    "print(f\"📝 Updating station {station_id}...\")\n",
    "try:\n",
    "    updated_station = station_manager.update(\n",
    "        station_id=str(station_id),\n",
    "        campaign_id=str(campaign_id),\n",
    "        description=\"Updated: Air quality monitoring station in downtown Austin with PM2.5 and PM10 sensors\"\n",
    "    )\n",
    "\n",
    "    print(f\"✅ Station updated successfully!\")\n",
    "    print(f\"   New description: {updated_station.description}\")\n",
    "\n",
    "except Exception as e:\n",
    "    print(f\"❌ Update error: {e}\")"
   ]
  },
  {
   "cell_type": "code",
   "execution_count": null,
   "metadata": {},
   "outputs": [],
   "source": [
    "# Work with CKAN organizations\n",
    "print(\"🏢 Working with CKAN organizations...\")\n",
    "try:\n",
    "    # List organizations\n",
    "    organizations = ckan.list_organizations()\n",
    "\n",
    "    print(f\"Found {len(organizations)} organizations:\")\n",
    "    for org in organizations[:3]:  # Show first 3\n",
    "        print(f\"  • {org['name']}\")\n",
    "        print(f\"    Title: {org['title']}\")\n",
    "        print(f\"    Description: {org.get('description', 'N/A')[:80]}...\")\n",
    "        print(f\"    Packages: {org.get('package_count', 'N/A')}\")\n",
    "        print()\n",
    "\n",
    "except Exception as e:\n",
    "    print(f\"❌ Error working with organizations: {e}\")"
   ]
  },
  {
   "cell_type": "markdown",
   "metadata": {},
   "source": [
    "## 7. Error Handling and Validation\n",
    "\n",
    "Let's demonstrate proper error handling and validation."
   ]
  },
  {
   "cell_type": "code",
   "execution_count": null,
   "metadata": {},
   "outputs": [],
   "source": [
    "# Test validation errors\n",
    "print(\"🧪 Testing validation and error handling...\")\n",
    "\n",
    "# Test invalid campaign creation\n",
    "print(\"\\n1. Testing invalid campaign creation:\")\n",
    "try:\n",
    "    invalid_campaign = campaign_manager.create(\n",
    "        name=\"\",  # Empty name should fail\n",
    "        description=\"Test campaign\"\n",
    "    )\n",
    "except ValidationError as e:\n",
    "    print(f\"   ✅ Caught validation error: {e}\")\n",
    "except Exception as e:\n",
    "    print(f\"   ❌ Unexpected error: {e}\")\n",
    "\n",
    "# Test invalid station creation\n",
    "print(\"\\n2. Testing invalid station creation:\")\n",
    "try:\n",
    "    invalid_station = station_manager.create(\n",
    "        campaign_id=str(campaign_id),\n",
    "        name=\"Test Station\",\n",
    "        latitude=100.0,  # Invalid latitude\n",
    "        longitude=-97.7431\n",
    "    )\n",
    "except ValidationError as e:\n",
    "    print(f\"   ✅ Caught validation error: {e}\")\n",
    "except Exception as e:\n",
    "    print(f\"   ❌ Unexpected error: {e}\")\n",
    "\n",
    "# Test API errors\n",
    "print(\"\\n3. Testing API errors:\")\n",
    "try:\n",
    "    # Try to get non-existent campaign\n",
    "    nonexistent_campaign = campaign_manager.get(\"999999\")\n",
    "except APIError as e:\n",
    "    print(f\"   ✅ Caught API error: {e}\")\n",
    "except Exception as e:\n",
    "    print(f\"   ❌ Unexpected error: {e}\")"
   ]
  },
  {
   "cell_type": "markdown",
   "metadata": {},
   "source": [
    "## 8. Data Retrieval and Analysis\n",
    "\n",
    "Let's retrieve and analyze the data we've uploaded."
   ]
  },
  {
   "cell_type": "code",
   "execution_count": null,
   "metadata": {},
   "outputs": [],
   "source": [
    "# Get campaign summary\n",
    "print(f\"📊 Campaign Summary for ID {campaign_id}:\")\n",
    "try:\n",
    "    campaign_details = campaign_manager.get(str(campaign_id))\n",
    "    stations_list = station_manager.list(campaign_id=str(campaign_id))\n",
    "\n",
    "    print(f\"\\n📋 Campaign Information:\")\n",
    "    print(f\"   Name: {campaign_details.name}\")\n",
    "    print(f\"   Description: {campaign_details.description}\")\n",
    "    print(f\"   Contact: {campaign_details.contact_name}\")\n",
    "    print(f\"   Start Date: {campaign_details.start_date}\")\n",
    "    print(f\"   End Date: {campaign_details.end_date}\")\n",
    "\n",
    "    print(f\"\\n📍 Stations ({stations_list.total} total):\")\n",
    "    for station in stations_list.items:\n",
    "        print(f\"   • {station.name} (ID: {station.id})\")\n",
    "        print(f\"     Location: {station.latitude}, {station.longitude}\")\n",
    "        print(f\"     Altitude: {station.altitude}m\")\n",
    "        print()\n",
    "\n",
    "except Exception as e:\n",
    "    print(f\"❌ Error getting campaign summary: {e}\")"
   ]
  },
  {
   "cell_type": "markdown",
   "metadata": {},
   "source": [
    "## 9. Cleanup\n",
    "\n",
    "Let's clean up by removing temporary files and logging out."
   ]
  },
  {
   "cell_type": "code",
   "execution_count": null,
   "metadata": {},
   "outputs": [],
   "source": [
    "# Clean up temporary files\n",
    "print(\"🧹 Cleaning up temporary files...\")\n",
    "try:\n",
    "    if data_dir.exists():\n",
    "        import shutil\n",
    "        shutil.rmtree(data_dir)\n",
    "        print(f\"   ✅ Removed {data_dir}\")\n",
    "    else:\n",
    "        print(f\"   ℹ️  Directory {data_dir} does not exist\")\n",
    "except Exception as e:\n",
    "    print(f\"   ❌ Error cleaning up: {e}\")\n",
    "\n",
    "# Logout\n",
    "print(\"\\n👋 Logging out...\")\n",
    "try:\n",
    "    client.logout()\n",
    "    print(\"   ✅ Logged out successfully\")\n",
    "except Exception as e:\n",
    "    print(f\"   ❌ Logout error: {e}\")\n",
    "\n",
    "print(\"\\n🎉 Demo completed successfully!\")"
   ]
  },
  {
   "cell_type": "markdown",
   "metadata": {},
   "source": [
    "## Summary\n",
    "\n",
    "This notebook demonstrated:\n",
    "\n",
    "✅ **Authentication** - Secure login to the Upstream platform  \n",
    "✅ **Campaign Management** - Creating, updating, and listing campaigns  \n",
    "✅ **Station Management** - Setting up monitoring stations with coordinates  \n",
    "✅ **Data Upload** - Uploading sensor and measurement data via CSV files  \n",
    "✅ **CKAN Integration** - Publishing datasets to CKAN with file uploads  \n",
    "✅ **Error Handling** - Proper validation and exception handling  \n",
    "✅ **Data Retrieval** - Querying and analyzing uploaded data  \n",
    "\n",
    "## Next Steps\n",
    "\n",
    "- Explore additional sensor types and measurement formats\n",
    "- Implement real-time data streaming\n",
    "- Set up automated data processing pipelines\n",
    "- Integrate with additional data portals\n",
    "- Develop custom visualization dashboards\n",
    "\n",
    "## Documentation\n",
    "\n",
    "For more information, see:\n",
    "- [Upstream SDK Documentation](https://upstream-sdk.readthedocs.io/)\n",
    "- [CKAN API Documentation](https://docs.ckan.org/en/2.9/api/)\n",
    "- [Environmental Data Standards](https://www.example.com/standards)\n",
    "\n",
    "---\n",
    "\n",
    "*This notebook was generated using the Upstream SDK v2.0*"
   ]
  }
 ],
 "metadata": {
  "kernelspec": {
   "display_name": ".venv",
   "language": "python",
   "name": "python3"
  },
  "language_info": {
   "codemirror_mode": {
    "name": "ipython",
    "version": 3
   },
   "file_extension": ".py",
   "mimetype": "text/x-python",
   "name": "python",
   "nbconvert_exporter": "python",
   "pygments_lexer": "ipython3",
   "version": "3.9.21"
  }
 },
 "nbformat": 4,
 "nbformat_minor": 4
}
